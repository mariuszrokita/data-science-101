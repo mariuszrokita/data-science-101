{
 "cells": [
  {
   "cell_type": "markdown",
   "metadata": {},
   "source": [
    "# Ensemble Learning - Bagging and Boosting"
   ]
  },
  {
   "cell_type": "markdown",
   "metadata": {},
   "source": [
    "## Ensemble Learning"
   ]
  },
  {
   "cell_type": "markdown",
   "metadata": {},
   "source": [
    "**Ensemble learning**, to metoda uczenia maszynowego wykorzystująca techniki grupowe, czyli wspólne uczenie się wielu podstawowych modeli na raz. Jest to dość ciekawa technika przypominająca tzn. \"mądrość tłumu\" polegającą na tym, że wykorzystujemy wiele bardzo prostych modeli, które, co ciekawe, w połączeniu są w stanie razem zbudować bardzo dobry model predykcyjny. Troszkę to przypomina fenomen \"mądrości tłumu\" przedstawiony przez telewizję BBC: https://www.youtube.com/watch?v=iOucwX7Z1HU. \n",
    "\n",
    "Popatrzmy jednak na to praktycznie - co robimy, jeśli chcemy kupić nowy samochód? Zapewne czytamy w internecie opinię innych, pytamy się taty, pytamy się szwagra, sąsiada, sąsiadki, najlepszego kolegi itp. Każda z osób bierze pod uwagę swoje kryteria - dla jednej osoby ważny jest kolor, dla drugiej - moc silnika, inna zaś zawsze kupuje najnowszy model danej marki. Każda osoba wydaje opinię biorąc pod uwagę swoje doświadczenia, uprzedzenia (to taki ludzki **bias** - uprzedzenie i **variance** - czułość na nowe dane), a my na samym końcu to wszystko \"musimy jakoś przetrawić\" i finalnie podejmujemy decyzję - kupujemy wybrany samochód.\n",
    "\n",
    "Mówiąc inaczej - decyzja modelu grupowego *ensamble model* jest podjęta na podstawie decyzji wielu bardzo prostych modeli uczenia maszynowego, które wchodzą w skład owej grupy. Decyzja modelu grupowego jest zasadniczo lepsza od pojedynczych decyzji każdego z prostych modeli."
   ]
  },
  {
   "cell_type": "markdown",
   "metadata": {},
   "source": [
    "## Bootstrapping"
   ]
  },
  {
   "cell_type": "markdown",
   "metadata": {},
   "source": [
    "**Bootstrap** (pol. metody samowsporne), to jaki podaje [Wikipedia](https://pl.wikipedia.org/wiki/Bootstrap_(statystyka)), to metody szacowania rozkładu błędów estymacji, za pomocą wielokrotnego losowania ze zwracaniem z próby. Są przydatne szczególnie, gdy nie jest znana postać rozkładu zmiennej w populacji.\n",
    "\n",
    "Materiał praktyczny: https://machinelearningmastery.com/a-gentle-introduction-to-the-bootstrap-method/"
   ]
  },
  {
   "cell_type": "markdown",
   "metadata": {},
   "source": [
    "# Literatura i materiały uzupełniające"
   ]
  },
  {
   "cell_type": "markdown",
   "metadata": {},
   "source": [
    "* https://towardsdatascience.com/simple-guide-for-ensemble-learning-methods-d87cc68705a2\n",
    "* https://geek.justjoin.it/ensemble-learning-czym-czym-polega/\n",
    "* https://en.wikipedia.org/wiki/Ensemble_learning\n",
    "* https://becominghuman.ai/ensemble-learning-bagging-and-boosting-d20f38be9b1e\n",
    "* https://quantdare.com/what-is-the-difference-between-bagging-and-boosting/"
   ]
  },
  {
   "cell_type": "code",
   "execution_count": null,
   "metadata": {},
   "outputs": [],
   "source": []
  }
 ],
 "metadata": {
  "kernelspec": {
   "display_name": "Python 2",
   "language": "python",
   "name": "python2"
  },
  "language_info": {
   "codemirror_mode": {
    "name": "ipython",
    "version": 3
   },
   "file_extension": ".py",
   "mimetype": "text/x-python",
   "name": "python",
   "nbconvert_exporter": "python",
   "pygments_lexer": "ipython3",
   "version": "3.7.4"
  }
 },
 "nbformat": 4,
 "nbformat_minor": 2
}
