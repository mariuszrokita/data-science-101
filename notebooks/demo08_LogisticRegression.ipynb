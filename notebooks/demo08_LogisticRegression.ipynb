{
 "cells": [
  {
   "cell_type": "code",
   "execution_count": 2,
   "metadata": {},
   "outputs": [],
   "source": [
    "import pandas as pd"
   ]
  },
  {
   "cell_type": "markdown",
   "metadata": {},
   "source": [
    "### Gender voice dataset\n",
    "#### Source : https://www.mldata.io/dataset-details/gender_voice/\n",
    "meanfreq\t-\tmean frequency (in kHz)\n",
    "\n",
    "sd\t        -\tstandard deviation of frequency\n",
    "\n",
    "median   \t- median frequency (in kHz)\n",
    "\n",
    "IQR\t        -\tinterquantile range (in kHz)\n",
    "\n",
    "sp.ent\t    -\tspectral entropy\n",
    "\n",
    "centroid\t-\tfrequency centroid (see specprop)\n",
    "\n",
    "minfun\t    -\tminimum fundamental frequency measured across acoustic signal\n",
    "\n",
    "label\t    -\tPredictor class, male or female"
   ]
  },
  {
   "cell_type": "code",
   "execution_count": 3,
   "metadata": {},
   "outputs": [
    {
     "data": {
      "text/html": [
       "<div>\n",
       "<style scoped>\n",
       "    .dataframe tbody tr th:only-of-type {\n",
       "        vertical-align: middle;\n",
       "    }\n",
       "\n",
       "    .dataframe tbody tr th {\n",
       "        vertical-align: top;\n",
       "    }\n",
       "\n",
       "    .dataframe thead th {\n",
       "        text-align: right;\n",
       "    }\n",
       "</style>\n",
       "<table border=\"1\" class=\"dataframe\">\n",
       "  <thead>\n",
       "    <tr style=\"text-align: right;\">\n",
       "      <th></th>\n",
       "      <th>meanfreq</th>\n",
       "      <th>sd</th>\n",
       "      <th>median</th>\n",
       "      <th>Q25</th>\n",
       "      <th>Q75</th>\n",
       "      <th>IQR</th>\n",
       "      <th>skew</th>\n",
       "      <th>kurt</th>\n",
       "      <th>sp.ent</th>\n",
       "      <th>sfm</th>\n",
       "      <th>...</th>\n",
       "      <th>centroid</th>\n",
       "      <th>meanfun</th>\n",
       "      <th>minfun</th>\n",
       "      <th>maxfun</th>\n",
       "      <th>meandom</th>\n",
       "      <th>mindom</th>\n",
       "      <th>maxdom</th>\n",
       "      <th>dfrange</th>\n",
       "      <th>modindx</th>\n",
       "      <th>label</th>\n",
       "    </tr>\n",
       "  </thead>\n",
       "  <tbody>\n",
       "    <tr>\n",
       "      <th>2634</th>\n",
       "      <td>0.203688</td>\n",
       "      <td>0.038244</td>\n",
       "      <td>0.206030</td>\n",
       "      <td>0.192863</td>\n",
       "      <td>0.222683</td>\n",
       "      <td>0.029820</td>\n",
       "      <td>2.510695</td>\n",
       "      <td>9.267754</td>\n",
       "      <td>0.856981</td>\n",
       "      <td>0.299170</td>\n",
       "      <td>...</td>\n",
       "      <td>0.203688</td>\n",
       "      <td>0.153905</td>\n",
       "      <td>0.047013</td>\n",
       "      <td>0.277457</td>\n",
       "      <td>2.272905</td>\n",
       "      <td>0.023438</td>\n",
       "      <td>8.109375</td>\n",
       "      <td>8.085938</td>\n",
       "      <td>0.127536</td>\n",
       "      <td>female</td>\n",
       "    </tr>\n",
       "    <tr>\n",
       "      <th>211</th>\n",
       "      <td>0.155400</td>\n",
       "      <td>0.082615</td>\n",
       "      <td>0.180441</td>\n",
       "      <td>0.101103</td>\n",
       "      <td>0.228044</td>\n",
       "      <td>0.126941</td>\n",
       "      <td>2.822129</td>\n",
       "      <td>13.880795</td>\n",
       "      <td>0.945885</td>\n",
       "      <td>0.650573</td>\n",
       "      <td>...</td>\n",
       "      <td>0.155400</td>\n",
       "      <td>0.115707</td>\n",
       "      <td>0.051118</td>\n",
       "      <td>0.275862</td>\n",
       "      <td>1.306581</td>\n",
       "      <td>0.007812</td>\n",
       "      <td>4.445312</td>\n",
       "      <td>4.437500</td>\n",
       "      <td>0.212858</td>\n",
       "      <td>male</td>\n",
       "    </tr>\n",
       "    <tr>\n",
       "      <th>2298</th>\n",
       "      <td>0.209176</td>\n",
       "      <td>0.055389</td>\n",
       "      <td>0.221982</td>\n",
       "      <td>0.191712</td>\n",
       "      <td>0.242162</td>\n",
       "      <td>0.050450</td>\n",
       "      <td>1.691632</td>\n",
       "      <td>5.485007</td>\n",
       "      <td>0.890396</td>\n",
       "      <td>0.377436</td>\n",
       "      <td>...</td>\n",
       "      <td>0.209176</td>\n",
       "      <td>0.161557</td>\n",
       "      <td>0.048000</td>\n",
       "      <td>0.272727</td>\n",
       "      <td>1.392857</td>\n",
       "      <td>0.023438</td>\n",
       "      <td>10.898438</td>\n",
       "      <td>10.875000</td>\n",
       "      <td>0.105873</td>\n",
       "      <td>female</td>\n",
       "    </tr>\n",
       "    <tr>\n",
       "      <th>232</th>\n",
       "      <td>0.213732</td>\n",
       "      <td>0.057705</td>\n",
       "      <td>0.242573</td>\n",
       "      <td>0.141701</td>\n",
       "      <td>0.257984</td>\n",
       "      <td>0.116283</td>\n",
       "      <td>2.113598</td>\n",
       "      <td>7.890927</td>\n",
       "      <td>0.859712</td>\n",
       "      <td>0.084934</td>\n",
       "      <td>...</td>\n",
       "      <td>0.213732</td>\n",
       "      <td>0.133667</td>\n",
       "      <td>0.028319</td>\n",
       "      <td>0.253968</td>\n",
       "      <td>0.818125</td>\n",
       "      <td>0.132812</td>\n",
       "      <td>4.164062</td>\n",
       "      <td>4.031250</td>\n",
       "      <td>0.229051</td>\n",
       "      <td>male</td>\n",
       "    </tr>\n",
       "    <tr>\n",
       "      <th>286</th>\n",
       "      <td>0.169344</td>\n",
       "      <td>0.068844</td>\n",
       "      <td>0.151482</td>\n",
       "      <td>0.118405</td>\n",
       "      <td>0.232807</td>\n",
       "      <td>0.114402</td>\n",
       "      <td>1.816953</td>\n",
       "      <td>7.741399</td>\n",
       "      <td>0.948781</td>\n",
       "      <td>0.584807</td>\n",
       "      <td>...</td>\n",
       "      <td>0.169344</td>\n",
       "      <td>0.113350</td>\n",
       "      <td>0.020619</td>\n",
       "      <td>0.225352</td>\n",
       "      <td>0.447329</td>\n",
       "      <td>0.078125</td>\n",
       "      <td>3.453125</td>\n",
       "      <td>3.375000</td>\n",
       "      <td>0.142670</td>\n",
       "      <td>male</td>\n",
       "    </tr>\n",
       "    <tr>\n",
       "      <th>3131</th>\n",
       "      <td>0.200820</td>\n",
       "      <td>0.071908</td>\n",
       "      <td>0.221688</td>\n",
       "      <td>0.199583</td>\n",
       "      <td>0.250272</td>\n",
       "      <td>0.050690</td>\n",
       "      <td>2.019344</td>\n",
       "      <td>7.009547</td>\n",
       "      <td>0.915796</td>\n",
       "      <td>0.482690</td>\n",
       "      <td>...</td>\n",
       "      <td>0.200820</td>\n",
       "      <td>0.200298</td>\n",
       "      <td>0.022315</td>\n",
       "      <td>0.275862</td>\n",
       "      <td>1.019531</td>\n",
       "      <td>0.007812</td>\n",
       "      <td>6.195312</td>\n",
       "      <td>6.187500</td>\n",
       "      <td>0.200732</td>\n",
       "      <td>female</td>\n",
       "    </tr>\n",
       "    <tr>\n",
       "      <th>3148</th>\n",
       "      <td>0.108888</td>\n",
       "      <td>0.092021</td>\n",
       "      <td>0.070063</td>\n",
       "      <td>0.022520</td>\n",
       "      <td>0.201180</td>\n",
       "      <td>0.178660</td>\n",
       "      <td>2.235435</td>\n",
       "      <td>8.528681</td>\n",
       "      <td>0.947621</td>\n",
       "      <td>0.679795</td>\n",
       "      <td>...</td>\n",
       "      <td>0.108888</td>\n",
       "      <td>0.160473</td>\n",
       "      <td>0.019512</td>\n",
       "      <td>0.275862</td>\n",
       "      <td>0.497721</td>\n",
       "      <td>0.007812</td>\n",
       "      <td>2.945312</td>\n",
       "      <td>2.937500</td>\n",
       "      <td>0.236240</td>\n",
       "      <td>female</td>\n",
       "    </tr>\n",
       "    <tr>\n",
       "      <th>1283</th>\n",
       "      <td>0.182129</td>\n",
       "      <td>0.058269</td>\n",
       "      <td>0.161431</td>\n",
       "      <td>0.142604</td>\n",
       "      <td>0.237139</td>\n",
       "      <td>0.094535</td>\n",
       "      <td>2.505215</td>\n",
       "      <td>11.750092</td>\n",
       "      <td>0.908334</td>\n",
       "      <td>0.397582</td>\n",
       "      <td>...</td>\n",
       "      <td>0.182129</td>\n",
       "      <td>0.137327</td>\n",
       "      <td>0.048387</td>\n",
       "      <td>0.274286</td>\n",
       "      <td>1.393594</td>\n",
       "      <td>0.023438</td>\n",
       "      <td>7.429688</td>\n",
       "      <td>7.406250</td>\n",
       "      <td>0.137383</td>\n",
       "      <td>male</td>\n",
       "    </tr>\n",
       "    <tr>\n",
       "      <th>1320</th>\n",
       "      <td>0.197826</td>\n",
       "      <td>0.061653</td>\n",
       "      <td>0.221027</td>\n",
       "      <td>0.136164</td>\n",
       "      <td>0.241164</td>\n",
       "      <td>0.105000</td>\n",
       "      <td>1.719663</td>\n",
       "      <td>5.778525</td>\n",
       "      <td>0.905622</td>\n",
       "      <td>0.441122</td>\n",
       "      <td>...</td>\n",
       "      <td>0.197826</td>\n",
       "      <td>0.124957</td>\n",
       "      <td>0.047572</td>\n",
       "      <td>0.275862</td>\n",
       "      <td>1.016016</td>\n",
       "      <td>0.023438</td>\n",
       "      <td>6.632812</td>\n",
       "      <td>6.609375</td>\n",
       "      <td>0.117647</td>\n",
       "      <td>male</td>\n",
       "    </tr>\n",
       "    <tr>\n",
       "      <th>1731</th>\n",
       "      <td>0.167252</td>\n",
       "      <td>0.079083</td>\n",
       "      <td>0.200875</td>\n",
       "      <td>0.115391</td>\n",
       "      <td>0.224424</td>\n",
       "      <td>0.109033</td>\n",
       "      <td>2.056068</td>\n",
       "      <td>6.979253</td>\n",
       "      <td>0.917465</td>\n",
       "      <td>0.511028</td>\n",
       "      <td>...</td>\n",
       "      <td>0.167252</td>\n",
       "      <td>0.193539</td>\n",
       "      <td>0.019900</td>\n",
       "      <td>0.242424</td>\n",
       "      <td>0.443182</td>\n",
       "      <td>0.007812</td>\n",
       "      <td>3.156250</td>\n",
       "      <td>3.148438</td>\n",
       "      <td>0.147111</td>\n",
       "      <td>female</td>\n",
       "    </tr>\n",
       "  </tbody>\n",
       "</table>\n",
       "<p>10 rows × 21 columns</p>\n",
       "</div>"
      ],
      "text/plain": [
       "      meanfreq        sd    median       Q25       Q75       IQR      skew  \\\n",
       "2634  0.203688  0.038244  0.206030  0.192863  0.222683  0.029820  2.510695   \n",
       "211   0.155400  0.082615  0.180441  0.101103  0.228044  0.126941  2.822129   \n",
       "2298  0.209176  0.055389  0.221982  0.191712  0.242162  0.050450  1.691632   \n",
       "232   0.213732  0.057705  0.242573  0.141701  0.257984  0.116283  2.113598   \n",
       "286   0.169344  0.068844  0.151482  0.118405  0.232807  0.114402  1.816953   \n",
       "3131  0.200820  0.071908  0.221688  0.199583  0.250272  0.050690  2.019344   \n",
       "3148  0.108888  0.092021  0.070063  0.022520  0.201180  0.178660  2.235435   \n",
       "1283  0.182129  0.058269  0.161431  0.142604  0.237139  0.094535  2.505215   \n",
       "1320  0.197826  0.061653  0.221027  0.136164  0.241164  0.105000  1.719663   \n",
       "1731  0.167252  0.079083  0.200875  0.115391  0.224424  0.109033  2.056068   \n",
       "\n",
       "           kurt    sp.ent       sfm  ...  centroid   meanfun    minfun  \\\n",
       "2634   9.267754  0.856981  0.299170  ...  0.203688  0.153905  0.047013   \n",
       "211   13.880795  0.945885  0.650573  ...  0.155400  0.115707  0.051118   \n",
       "2298   5.485007  0.890396  0.377436  ...  0.209176  0.161557  0.048000   \n",
       "232    7.890927  0.859712  0.084934  ...  0.213732  0.133667  0.028319   \n",
       "286    7.741399  0.948781  0.584807  ...  0.169344  0.113350  0.020619   \n",
       "3131   7.009547  0.915796  0.482690  ...  0.200820  0.200298  0.022315   \n",
       "3148   8.528681  0.947621  0.679795  ...  0.108888  0.160473  0.019512   \n",
       "1283  11.750092  0.908334  0.397582  ...  0.182129  0.137327  0.048387   \n",
       "1320   5.778525  0.905622  0.441122  ...  0.197826  0.124957  0.047572   \n",
       "1731   6.979253  0.917465  0.511028  ...  0.167252  0.193539  0.019900   \n",
       "\n",
       "        maxfun   meandom    mindom     maxdom    dfrange   modindx   label  \n",
       "2634  0.277457  2.272905  0.023438   8.109375   8.085938  0.127536  female  \n",
       "211   0.275862  1.306581  0.007812   4.445312   4.437500  0.212858    male  \n",
       "2298  0.272727  1.392857  0.023438  10.898438  10.875000  0.105873  female  \n",
       "232   0.253968  0.818125  0.132812   4.164062   4.031250  0.229051    male  \n",
       "286   0.225352  0.447329  0.078125   3.453125   3.375000  0.142670    male  \n",
       "3131  0.275862  1.019531  0.007812   6.195312   6.187500  0.200732  female  \n",
       "3148  0.275862  0.497721  0.007812   2.945312   2.937500  0.236240  female  \n",
       "1283  0.274286  1.393594  0.023438   7.429688   7.406250  0.137383    male  \n",
       "1320  0.275862  1.016016  0.023438   6.632812   6.609375  0.117647    male  \n",
       "1731  0.242424  0.443182  0.007812   3.156250   3.148438  0.147111  female  \n",
       "\n",
       "[10 rows x 21 columns]"
      ]
     },
     "execution_count": 3,
     "metadata": {},
     "output_type": "execute_result"
    }
   ],
   "source": [
    "data = pd.read_csv('../data/gender_voice_dataset.csv')\n",
    "\n",
    "data.sample(10)"
   ]
  },
  {
   "cell_type": "code",
   "execution_count": 4,
   "metadata": {},
   "outputs": [
    {
     "data": {
      "text/html": [
       "<div>\n",
       "<style scoped>\n",
       "    .dataframe tbody tr th:only-of-type {\n",
       "        vertical-align: middle;\n",
       "    }\n",
       "\n",
       "    .dataframe tbody tr th {\n",
       "        vertical-align: top;\n",
       "    }\n",
       "\n",
       "    .dataframe thead th {\n",
       "        text-align: right;\n",
       "    }\n",
       "</style>\n",
       "<table border=\"1\" class=\"dataframe\">\n",
       "  <thead>\n",
       "    <tr style=\"text-align: right;\">\n",
       "      <th></th>\n",
       "      <th>label</th>\n",
       "    </tr>\n",
       "  </thead>\n",
       "  <tbody>\n",
       "    <tr>\n",
       "      <th>668</th>\n",
       "      <td>male</td>\n",
       "    </tr>\n",
       "    <tr>\n",
       "      <th>816</th>\n",
       "      <td>male</td>\n",
       "    </tr>\n",
       "    <tr>\n",
       "      <th>3129</th>\n",
       "      <td>female</td>\n",
       "    </tr>\n",
       "    <tr>\n",
       "      <th>2551</th>\n",
       "      <td>female</td>\n",
       "    </tr>\n",
       "    <tr>\n",
       "      <th>2213</th>\n",
       "      <td>female</td>\n",
       "    </tr>\n",
       "    <tr>\n",
       "      <th>2287</th>\n",
       "      <td>female</td>\n",
       "    </tr>\n",
       "    <tr>\n",
       "      <th>2771</th>\n",
       "      <td>female</td>\n",
       "    </tr>\n",
       "    <tr>\n",
       "      <th>647</th>\n",
       "      <td>male</td>\n",
       "    </tr>\n",
       "    <tr>\n",
       "      <th>205</th>\n",
       "      <td>male</td>\n",
       "    </tr>\n",
       "    <tr>\n",
       "      <th>2600</th>\n",
       "      <td>female</td>\n",
       "    </tr>\n",
       "  </tbody>\n",
       "</table>\n",
       "</div>"
      ],
      "text/plain": [
       "       label\n",
       "668     male\n",
       "816     male\n",
       "3129  female\n",
       "2551  female\n",
       "2213  female\n",
       "2287  female\n",
       "2771  female\n",
       "647     male\n",
       "205     male\n",
       "2600  female"
      ]
     },
     "execution_count": 4,
     "metadata": {},
     "output_type": "execute_result"
    }
   ],
   "source": [
    "data[['label']].sample(10)"
   ]
  },
  {
   "cell_type": "code",
   "execution_count": 5,
   "metadata": {},
   "outputs": [
    {
     "data": {
      "text/plain": [
       "(3168, 21)"
      ]
     },
     "execution_count": 5,
     "metadata": {},
     "output_type": "execute_result"
    }
   ],
   "source": [
    "data.shape"
   ]
  },
  {
   "cell_type": "code",
   "execution_count": 9,
   "metadata": {},
   "outputs": [
    {
     "data": {
      "text/plain": [
       "Index(['meanfreq', 'sd', 'median', 'Q25', 'Q75', 'IQR', 'skew', 'kurt',\n",
       "       'sp.ent', 'sfm', 'mode', 'centroid', 'meanfun', 'minfun', 'maxfun',\n",
       "       'meandom', 'mindom', 'maxdom', 'dfrange', 'modindx', 'label'],\n",
       "      dtype='object')"
      ]
     },
     "execution_count": 9,
     "metadata": {},
     "output_type": "execute_result"
    }
   ],
   "source": [
    "data.columns"
   ]
  },
  {
   "cell_type": "markdown",
   "metadata": {},
   "source": [
    "### Describing values"
   ]
  },
  {
   "cell_type": "code",
   "execution_count": 6,
   "metadata": {},
   "outputs": [
    {
     "data": {
      "text/html": [
       "<div>\n",
       "<style scoped>\n",
       "    .dataframe tbody tr th:only-of-type {\n",
       "        vertical-align: middle;\n",
       "    }\n",
       "\n",
       "    .dataframe tbody tr th {\n",
       "        vertical-align: top;\n",
       "    }\n",
       "\n",
       "    .dataframe thead th {\n",
       "        text-align: right;\n",
       "    }\n",
       "</style>\n",
       "<table border=\"1\" class=\"dataframe\">\n",
       "  <thead>\n",
       "    <tr style=\"text-align: right;\">\n",
       "      <th></th>\n",
       "      <th>count</th>\n",
       "      <th>mean</th>\n",
       "      <th>std</th>\n",
       "      <th>min</th>\n",
       "      <th>25%</th>\n",
       "      <th>50%</th>\n",
       "      <th>75%</th>\n",
       "      <th>max</th>\n",
       "    </tr>\n",
       "  </thead>\n",
       "  <tbody>\n",
       "    <tr>\n",
       "      <th>meanfreq</th>\n",
       "      <td>3168.0</td>\n",
       "      <td>0.180907</td>\n",
       "      <td>0.029918</td>\n",
       "      <td>0.039363</td>\n",
       "      <td>0.163662</td>\n",
       "      <td>0.184838</td>\n",
       "      <td>0.199146</td>\n",
       "      <td>0.251124</td>\n",
       "    </tr>\n",
       "    <tr>\n",
       "      <th>sd</th>\n",
       "      <td>3168.0</td>\n",
       "      <td>0.057126</td>\n",
       "      <td>0.016652</td>\n",
       "      <td>0.018363</td>\n",
       "      <td>0.041954</td>\n",
       "      <td>0.059155</td>\n",
       "      <td>0.067020</td>\n",
       "      <td>0.115273</td>\n",
       "    </tr>\n",
       "    <tr>\n",
       "      <th>median</th>\n",
       "      <td>3168.0</td>\n",
       "      <td>0.185621</td>\n",
       "      <td>0.036360</td>\n",
       "      <td>0.010975</td>\n",
       "      <td>0.169593</td>\n",
       "      <td>0.190032</td>\n",
       "      <td>0.210618</td>\n",
       "      <td>0.261224</td>\n",
       "    </tr>\n",
       "    <tr>\n",
       "      <th>Q25</th>\n",
       "      <td>3168.0</td>\n",
       "      <td>0.140456</td>\n",
       "      <td>0.048680</td>\n",
       "      <td>0.000229</td>\n",
       "      <td>0.111087</td>\n",
       "      <td>0.140286</td>\n",
       "      <td>0.175939</td>\n",
       "      <td>0.247347</td>\n",
       "    </tr>\n",
       "    <tr>\n",
       "      <th>Q75</th>\n",
       "      <td>3168.0</td>\n",
       "      <td>0.224765</td>\n",
       "      <td>0.023639</td>\n",
       "      <td>0.042946</td>\n",
       "      <td>0.208747</td>\n",
       "      <td>0.225684</td>\n",
       "      <td>0.243660</td>\n",
       "      <td>0.273469</td>\n",
       "    </tr>\n",
       "    <tr>\n",
       "      <th>IQR</th>\n",
       "      <td>3168.0</td>\n",
       "      <td>0.084309</td>\n",
       "      <td>0.042783</td>\n",
       "      <td>0.014558</td>\n",
       "      <td>0.042560</td>\n",
       "      <td>0.094280</td>\n",
       "      <td>0.114175</td>\n",
       "      <td>0.252225</td>\n",
       "    </tr>\n",
       "    <tr>\n",
       "      <th>skew</th>\n",
       "      <td>3168.0</td>\n",
       "      <td>3.140168</td>\n",
       "      <td>4.240529</td>\n",
       "      <td>0.141735</td>\n",
       "      <td>1.649569</td>\n",
       "      <td>2.197101</td>\n",
       "      <td>2.931694</td>\n",
       "      <td>34.725453</td>\n",
       "    </tr>\n",
       "    <tr>\n",
       "      <th>kurt</th>\n",
       "      <td>3168.0</td>\n",
       "      <td>36.568461</td>\n",
       "      <td>134.928661</td>\n",
       "      <td>2.068455</td>\n",
       "      <td>5.669547</td>\n",
       "      <td>8.318463</td>\n",
       "      <td>13.648905</td>\n",
       "      <td>1309.612887</td>\n",
       "    </tr>\n",
       "    <tr>\n",
       "      <th>sp.ent</th>\n",
       "      <td>3168.0</td>\n",
       "      <td>0.895127</td>\n",
       "      <td>0.044980</td>\n",
       "      <td>0.738651</td>\n",
       "      <td>0.861811</td>\n",
       "      <td>0.901767</td>\n",
       "      <td>0.928713</td>\n",
       "      <td>0.981997</td>\n",
       "    </tr>\n",
       "    <tr>\n",
       "      <th>sfm</th>\n",
       "      <td>3168.0</td>\n",
       "      <td>0.408216</td>\n",
       "      <td>0.177521</td>\n",
       "      <td>0.036876</td>\n",
       "      <td>0.258041</td>\n",
       "      <td>0.396335</td>\n",
       "      <td>0.533676</td>\n",
       "      <td>0.842936</td>\n",
       "    </tr>\n",
       "    <tr>\n",
       "      <th>mode</th>\n",
       "      <td>3168.0</td>\n",
       "      <td>0.165282</td>\n",
       "      <td>0.077203</td>\n",
       "      <td>0.000000</td>\n",
       "      <td>0.118016</td>\n",
       "      <td>0.186599</td>\n",
       "      <td>0.221104</td>\n",
       "      <td>0.280000</td>\n",
       "    </tr>\n",
       "    <tr>\n",
       "      <th>centroid</th>\n",
       "      <td>3168.0</td>\n",
       "      <td>0.180907</td>\n",
       "      <td>0.029918</td>\n",
       "      <td>0.039363</td>\n",
       "      <td>0.163662</td>\n",
       "      <td>0.184838</td>\n",
       "      <td>0.199146</td>\n",
       "      <td>0.251124</td>\n",
       "    </tr>\n",
       "    <tr>\n",
       "      <th>meanfun</th>\n",
       "      <td>3168.0</td>\n",
       "      <td>0.142807</td>\n",
       "      <td>0.032304</td>\n",
       "      <td>0.055565</td>\n",
       "      <td>0.116998</td>\n",
       "      <td>0.140519</td>\n",
       "      <td>0.169581</td>\n",
       "      <td>0.237636</td>\n",
       "    </tr>\n",
       "    <tr>\n",
       "      <th>minfun</th>\n",
       "      <td>3168.0</td>\n",
       "      <td>0.036802</td>\n",
       "      <td>0.019220</td>\n",
       "      <td>0.009775</td>\n",
       "      <td>0.018223</td>\n",
       "      <td>0.046110</td>\n",
       "      <td>0.047904</td>\n",
       "      <td>0.204082</td>\n",
       "    </tr>\n",
       "    <tr>\n",
       "      <th>maxfun</th>\n",
       "      <td>3168.0</td>\n",
       "      <td>0.258842</td>\n",
       "      <td>0.030077</td>\n",
       "      <td>0.103093</td>\n",
       "      <td>0.253968</td>\n",
       "      <td>0.271186</td>\n",
       "      <td>0.277457</td>\n",
       "      <td>0.279114</td>\n",
       "    </tr>\n",
       "    <tr>\n",
       "      <th>meandom</th>\n",
       "      <td>3168.0</td>\n",
       "      <td>0.829211</td>\n",
       "      <td>0.525205</td>\n",
       "      <td>0.007812</td>\n",
       "      <td>0.419828</td>\n",
       "      <td>0.765795</td>\n",
       "      <td>1.177166</td>\n",
       "      <td>2.957682</td>\n",
       "    </tr>\n",
       "    <tr>\n",
       "      <th>mindom</th>\n",
       "      <td>3168.0</td>\n",
       "      <td>0.052647</td>\n",
       "      <td>0.063299</td>\n",
       "      <td>0.004883</td>\n",
       "      <td>0.007812</td>\n",
       "      <td>0.023438</td>\n",
       "      <td>0.070312</td>\n",
       "      <td>0.458984</td>\n",
       "    </tr>\n",
       "    <tr>\n",
       "      <th>maxdom</th>\n",
       "      <td>3168.0</td>\n",
       "      <td>5.047277</td>\n",
       "      <td>3.521157</td>\n",
       "      <td>0.007812</td>\n",
       "      <td>2.070312</td>\n",
       "      <td>4.992188</td>\n",
       "      <td>7.007812</td>\n",
       "      <td>21.867188</td>\n",
       "    </tr>\n",
       "    <tr>\n",
       "      <th>dfrange</th>\n",
       "      <td>3168.0</td>\n",
       "      <td>4.994630</td>\n",
       "      <td>3.520039</td>\n",
       "      <td>0.000000</td>\n",
       "      <td>2.044922</td>\n",
       "      <td>4.945312</td>\n",
       "      <td>6.992188</td>\n",
       "      <td>21.843750</td>\n",
       "    </tr>\n",
       "    <tr>\n",
       "      <th>modindx</th>\n",
       "      <td>3168.0</td>\n",
       "      <td>0.173752</td>\n",
       "      <td>0.119454</td>\n",
       "      <td>0.000000</td>\n",
       "      <td>0.099766</td>\n",
       "      <td>0.139357</td>\n",
       "      <td>0.209183</td>\n",
       "      <td>0.932374</td>\n",
       "    </tr>\n",
       "  </tbody>\n",
       "</table>\n",
       "</div>"
      ],
      "text/plain": [
       "           count       mean         std       min       25%       50%  \\\n",
       "meanfreq  3168.0   0.180907    0.029918  0.039363  0.163662  0.184838   \n",
       "sd        3168.0   0.057126    0.016652  0.018363  0.041954  0.059155   \n",
       "median    3168.0   0.185621    0.036360  0.010975  0.169593  0.190032   \n",
       "Q25       3168.0   0.140456    0.048680  0.000229  0.111087  0.140286   \n",
       "Q75       3168.0   0.224765    0.023639  0.042946  0.208747  0.225684   \n",
       "IQR       3168.0   0.084309    0.042783  0.014558  0.042560  0.094280   \n",
       "skew      3168.0   3.140168    4.240529  0.141735  1.649569  2.197101   \n",
       "kurt      3168.0  36.568461  134.928661  2.068455  5.669547  8.318463   \n",
       "sp.ent    3168.0   0.895127    0.044980  0.738651  0.861811  0.901767   \n",
       "sfm       3168.0   0.408216    0.177521  0.036876  0.258041  0.396335   \n",
       "mode      3168.0   0.165282    0.077203  0.000000  0.118016  0.186599   \n",
       "centroid  3168.0   0.180907    0.029918  0.039363  0.163662  0.184838   \n",
       "meanfun   3168.0   0.142807    0.032304  0.055565  0.116998  0.140519   \n",
       "minfun    3168.0   0.036802    0.019220  0.009775  0.018223  0.046110   \n",
       "maxfun    3168.0   0.258842    0.030077  0.103093  0.253968  0.271186   \n",
       "meandom   3168.0   0.829211    0.525205  0.007812  0.419828  0.765795   \n",
       "mindom    3168.0   0.052647    0.063299  0.004883  0.007812  0.023438   \n",
       "maxdom    3168.0   5.047277    3.521157  0.007812  2.070312  4.992188   \n",
       "dfrange   3168.0   4.994630    3.520039  0.000000  2.044922  4.945312   \n",
       "modindx   3168.0   0.173752    0.119454  0.000000  0.099766  0.139357   \n",
       "\n",
       "                75%          max  \n",
       "meanfreq   0.199146     0.251124  \n",
       "sd         0.067020     0.115273  \n",
       "median     0.210618     0.261224  \n",
       "Q25        0.175939     0.247347  \n",
       "Q75        0.243660     0.273469  \n",
       "IQR        0.114175     0.252225  \n",
       "skew       2.931694    34.725453  \n",
       "kurt      13.648905  1309.612887  \n",
       "sp.ent     0.928713     0.981997  \n",
       "sfm        0.533676     0.842936  \n",
       "mode       0.221104     0.280000  \n",
       "centroid   0.199146     0.251124  \n",
       "meanfun    0.169581     0.237636  \n",
       "minfun     0.047904     0.204082  \n",
       "maxfun     0.277457     0.279114  \n",
       "meandom    1.177166     2.957682  \n",
       "mindom     0.070312     0.458984  \n",
       "maxdom     7.007812    21.867188  \n",
       "dfrange    6.992188    21.843750  \n",
       "modindx    0.209183     0.932374  "
      ]
     },
     "execution_count": 6,
     "metadata": {},
     "output_type": "execute_result"
    }
   ],
   "source": [
    "data.describe().T"
   ]
  },
  {
   "cell_type": "markdown",
   "metadata": {},
   "source": [
    "### Label encoding "
   ]
  },
  {
   "cell_type": "code",
   "execution_count": 7,
   "metadata": {},
   "outputs": [
    {
     "data": {
      "text/plain": [
       "2595    0\n",
       "193     1\n",
       "2397    0\n",
       "598     1\n",
       "2770    0\n",
       "3165    0\n",
       "3052    0\n",
       "3122    0\n",
       "1431    1\n",
       "2638    0\n",
       "Name: label, dtype: int64"
      ]
     },
     "execution_count": 7,
     "metadata": {},
     "output_type": "execute_result"
    }
   ],
   "source": [
    "from sklearn.preprocessing import LabelEncoder\n",
    "\n",
    "labelEncoder = LabelEncoder()\n",
    "data['label'] = labelEncoder.fit_transform(data['label'].astype(str))\n",
    "\n",
    "data['label'].sample(10)"
   ]
  },
  {
   "cell_type": "code",
   "execution_count": 11,
   "metadata": {},
   "outputs": [
    {
     "data": {
      "image/png": "[encoded data removed]",
      "text/plain": [
       "<Figure size 576x360 with 1 Axes>"
      ]
     },
     "metadata": {
      "needs_background": "light"
     },
     "output_type": "display_data"
    }
   ],
   "source": [
    "data.boxplot(by ='label', column =['meanfreq'], grid = False, figsize=(8, 5));"
   ]
  },
  {
   "cell_type": "code",
   "execution_count": 12,
   "metadata": {},
   "outputs": [
    {
     "data": {
      "image/png": "[encoded data removed]",
      "text/plain": [
       "<Figure size 576x360 with 1 Axes>"
      ]
     },
     "metadata": {
      "needs_background": "light"
     },
     "output_type": "display_data"
    }
   ],
   "source": [
    "data.boxplot(by ='label', column =['dfrange'], grid = False, figsize=(8, 5));"
   ]
  },
  {
   "cell_type": "markdown",
   "metadata": {},
   "source": [
    "### Spilting the data into train and test data"
   ]
  },
  {
   "cell_type": "code",
   "execution_count": 20,
   "metadata": {},
   "outputs": [],
   "source": [
    "from sklearn.model_selection import train_test_split\n",
    "\n",
    "features = data.drop('label', axis=1)\n",
    "target = data['label']\n",
    "\n",
    "x_train, x_test, y_train, y_test = train_test_split(features, target, test_size=0.2, random_state=42) "
   ]
  },
  {
   "cell_type": "code",
   "execution_count": 21,
   "metadata": {},
   "outputs": [
    {
     "data": {
      "text/plain": [
       "((2534, 20), (2534,))"
      ]
     },
     "execution_count": 21,
     "metadata": {},
     "output_type": "execute_result"
    }
   ],
   "source": [
    "x_train.shape , y_train.shape"
   ]
  },
  {
   "cell_type": "code",
   "execution_count": 22,
   "metadata": {},
   "outputs": [
    {
     "data": {
      "text/plain": [
       "((634, 20), (634,))"
      ]
     },
     "execution_count": 22,
     "metadata": {},
     "output_type": "execute_result"
    }
   ],
   "source": [
    "x_test.shape , y_test.shape "
   ]
  },
  {
   "cell_type": "markdown",
   "metadata": {},
   "source": [
    "### Logistic Regression Classifier\n",
    "https://scikit-learn.org/stable/modules/generated/sklearn.linear_model.LogisticRegression.html\n"
   ]
  },
  {
   "cell_type": "code",
   "execution_count": 23,
   "metadata": {},
   "outputs": [
    {
     "data": {
      "text/plain": [
       "LogisticRegression(C=1.0, class_weight=None, dual=False, fit_intercept=True,\n",
       "                   intercept_scaling=1, l1_ratio=None, max_iter=100,\n",
       "                   multi_class='auto', n_jobs=None, penalty='l2',\n",
       "                   random_state=None, solver='liblinear', tol=0.0001, verbose=0,\n",
       "                   warm_start=False)"
      ]
     },
     "execution_count": 23,
     "metadata": {},
     "output_type": "execute_result"
    }
   ],
   "source": [
    "from sklearn.linear_model import LogisticRegression\n",
    "from sklearn.metrics import confusion_matrix\n",
    "\n",
    "# L1 (Lasso regularization) - \n",
    "# L2 (Ridge regularization) - \n",
    "logistic_model = LogisticRegression(penalty='l2', solver='liblinear')\n",
    "\n",
    "logistic_model.fit(x_train, y_train)"
   ]
  },
  {
   "cell_type": "code",
   "execution_count": 24,
   "metadata": {},
   "outputs": [],
   "source": [
    "y_pred = logistic_model.predict(x_test)"
   ]
  },
  {
   "cell_type": "code",
   "execution_count": 25,
   "metadata": {},
   "outputs": [
    {
     "name": "stdout",
     "output_type": "stream",
     "text": [
      "[[261  36]\n",
      " [ 11 326]]\n"
     ]
    }
   ],
   "source": [
    "confusion_matrix = confusion_matrix(y_test, y_pred)\n",
    "\n",
    "print(confusion_matrix)"
   ]
  },
  {
   "cell_type": "code",
   "execution_count": 27,
   "metadata": {},
   "outputs": [
    {
     "name": "stdout",
     "output_type": "stream",
     "text": [
      "Training score (accuracy):  0.9072612470402526\n"
     ]
    }
   ],
   "source": [
    "print(\"Training score (accuracy): \", logistic_model.score(x_train, y_train))"
   ]
  },
  {
   "cell_type": "markdown",
   "metadata": {},
   "source": [
    "### Accuracy, precision, recall scores"
   ]
  },
  {
   "cell_type": "code",
   "execution_count": 28,
   "metadata": {},
   "outputs": [
    {
     "name": "stdout",
     "output_type": "stream",
     "text": [
      "Accuracy :  0.9258675078864353\n",
      "Precision Score :  0.9005524861878453\n",
      "Recall Score :  0.9673590504451038\n"
     ]
    }
   ],
   "source": [
    "from sklearn.metrics import accuracy_score, precision_score, recall_score\n",
    "\n",
    "acc = accuracy_score(y_test, y_pred)\n",
    "pre = precision_score(y_test, y_pred)\n",
    "recall = recall_score(y_test, y_pred)\n",
    "\n",
    "print('Accuracy : ' , acc)\n",
    "print('Precision Score : ', pre)\n",
    "print('Recall Score : ', recall)"
   ]
  },
  {
   "cell_type": "markdown",
   "metadata": {},
   "source": [
    "### Best Features Selection"
   ]
  },
  {
   "cell_type": "code",
   "execution_count": 32,
   "metadata": {},
   "outputs": [],
   "source": [
    "from yellowbrick.target import FeatureCorrelation\n",
    "\n",
    "feature_names = list(features.columns);"
   ]
  },
  {
   "cell_type": "code",
   "execution_count": 33,
   "metadata": {},
   "outputs": [
    {
     "data": {
      "image/png": "[encoded data removed]",
      "text/plain": [
       "<Figure size 576x396 with 1 Axes>"
      ]
     },
     "metadata": {},
     "output_type": "display_data"
    }
   ],
   "source": [
    "visualizer = FeatureCorrelation(labels = feature_names)\n",
    "\n",
    "visualizer.fit(features, target)\n",
    "\n",
    "visualizer.poof();"
   ]
  },
  {
   "cell_type": "code",
   "execution_count": 34,
   "metadata": {},
   "outputs": [],
   "source": [
    "from sklearn.feature_selection import chi2, f_classif, mutual_info_classif\n",
    "from sklearn.feature_selection import SelectKBest"
   ]
  },
  {
   "cell_type": "code",
   "execution_count": 51,
   "metadata": {},
   "outputs": [],
   "source": [
    "## TODO: While recording, re-record from here first with chi2, then with f_classif and then with mutual_info_classif\n",
    "\n",
    "select_univariate = SelectKBest(\n",
    "    #chi2, \n",
    "    #f_classif, # ANOVA analysis\n",
    "    mutual_info_classif, \n",
    "    k=4).fit(features, target)"
   ]
  },
  {
   "cell_type": "code",
   "execution_count": 52,
   "metadata": {},
   "outputs": [
    {
     "data": {
      "text/plain": [
       "array([False,  True, False,  True, False,  True, False, False, False,\n",
       "       False, False, False,  True, False, False, False, False, False,\n",
       "       False, False])"
      ]
     },
     "execution_count": 52,
     "metadata": {},
     "output_type": "execute_result"
    }
   ],
   "source": [
    "features_mask = select_univariate.get_support()\n",
    "\n",
    "features_mask"
   ]
  },
  {
   "cell_type": "code",
   "execution_count": 53,
   "metadata": {},
   "outputs": [
    {
     "data": {
      "text/plain": [
       "Index(['sd', 'Q25', 'IQR', 'meanfun'], dtype='object')"
      ]
     },
     "execution_count": 53,
     "metadata": {},
     "output_type": "execute_result"
    }
   ],
   "source": [
    "selected_columns = features.columns[features_mask]\n",
    "\n",
    "selected_columns"
   ]
  },
  {
   "cell_type": "code",
   "execution_count": 54,
   "metadata": {},
   "outputs": [
    {
     "data": {
      "text/html": [
       "<div>\n",
       "<style scoped>\n",
       "    .dataframe tbody tr th:only-of-type {\n",
       "        vertical-align: middle;\n",
       "    }\n",
       "\n",
       "    .dataframe tbody tr th {\n",
       "        vertical-align: top;\n",
       "    }\n",
       "\n",
       "    .dataframe thead th {\n",
       "        text-align: right;\n",
       "    }\n",
       "</style>\n",
       "<table border=\"1\" class=\"dataframe\">\n",
       "  <thead>\n",
       "    <tr style=\"text-align: right;\">\n",
       "      <th></th>\n",
       "      <th>sd</th>\n",
       "      <th>Q25</th>\n",
       "      <th>IQR</th>\n",
       "      <th>meanfun</th>\n",
       "    </tr>\n",
       "  </thead>\n",
       "  <tbody>\n",
       "    <tr>\n",
       "      <th>0</th>\n",
       "      <td>0.064241</td>\n",
       "      <td>0.015071</td>\n",
       "      <td>0.075122</td>\n",
       "      <td>0.084279</td>\n",
       "    </tr>\n",
       "    <tr>\n",
       "      <th>1</th>\n",
       "      <td>0.067310</td>\n",
       "      <td>0.019414</td>\n",
       "      <td>0.073252</td>\n",
       "      <td>0.107937</td>\n",
       "    </tr>\n",
       "    <tr>\n",
       "      <th>2</th>\n",
       "      <td>0.083829</td>\n",
       "      <td>0.008701</td>\n",
       "      <td>0.123207</td>\n",
       "      <td>0.098706</td>\n",
       "    </tr>\n",
       "    <tr>\n",
       "      <th>3</th>\n",
       "      <td>0.072111</td>\n",
       "      <td>0.096582</td>\n",
       "      <td>0.111374</td>\n",
       "      <td>0.088965</td>\n",
       "    </tr>\n",
       "    <tr>\n",
       "      <th>4</th>\n",
       "      <td>0.079146</td>\n",
       "      <td>0.078720</td>\n",
       "      <td>0.127325</td>\n",
       "      <td>0.106398</td>\n",
       "    </tr>\n",
       "  </tbody>\n",
       "</table>\n",
       "</div>"
      ],
      "text/plain": [
       "         sd       Q25       IQR   meanfun\n",
       "0  0.064241  0.015071  0.075122  0.084279\n",
       "1  0.067310  0.019414  0.073252  0.107937\n",
       "2  0.083829  0.008701  0.123207  0.098706\n",
       "3  0.072111  0.096582  0.111374  0.088965\n",
       "4  0.079146  0.078720  0.127325  0.106398"
      ]
     },
     "execution_count": 54,
     "metadata": {},
     "output_type": "execute_result"
    }
   ],
   "source": [
    "selected_features = features[selected_columns]\n",
    "\n",
    "selected_features.head()"
   ]
  },
  {
   "cell_type": "code",
   "execution_count": 55,
   "metadata": {},
   "outputs": [],
   "source": [
    "x_train, x_test, y_train, y_test = train_test_split(selected_features, target, test_size =.2)"
   ]
  },
  {
   "cell_type": "code",
   "execution_count": 56,
   "metadata": {},
   "outputs": [
    {
     "data": {
      "text/plain": [
       "LogisticRegression(C=1.0, class_weight=None, dual=False, fit_intercept=True,\n",
       "                   intercept_scaling=1, l1_ratio=None, max_iter=100,\n",
       "                   multi_class='auto', n_jobs=None, penalty='l2',\n",
       "                   random_state=None, solver='liblinear', tol=0.0001, verbose=0,\n",
       "                   warm_start=False)"
      ]
     },
     "execution_count": 56,
     "metadata": {},
     "output_type": "execute_result"
    }
   ],
   "source": [
    "from sklearn.linear_model import LogisticRegression\n",
    "\n",
    "logistic_model = LogisticRegression(penalty='l2', solver='liblinear')\n",
    "logistic_model.fit(x_train, y_train)"
   ]
  },
  {
   "cell_type": "code",
   "execution_count": 57,
   "metadata": {},
   "outputs": [],
   "source": [
    "y_pred = logistic_model.predict(x_test)"
   ]
  },
  {
   "cell_type": "code",
   "execution_count": 58,
   "metadata": {},
   "outputs": [
    {
     "name": "stdout",
     "output_type": "stream",
     "text": [
      "Accuracy :  0.9274447949526814\n",
      "Precision Score :  0.8951841359773371\n",
      "Recall Score :  0.9723076923076923\n"
     ]
    }
   ],
   "source": [
    "acc = accuracy_score(y_test, y_pred)\n",
    "pre = precision_score(y_test, y_pred)\n",
    "recall = recall_score(y_test, y_pred)\n",
    "\n",
    "print('Accuracy : ' , acc)\n",
    "print('Precision Score : ', pre)\n",
    "print('Recall Score : ', recall)"
   ]
  },
  {
   "cell_type": "markdown",
   "metadata": {},
   "source": [
    "> Komentarz: Model wytrenowany na zbiorze zawierającym tylko 4 najważniejsze cechy (wybór chi-square) jest znacząco gorszy od modelu wytrenowanego na zbiorze zawierającym wszystkie feature'y:\n",
    "> \n",
    "> * Accuracy :  0.6088328075709779\n",
    "> * Precision Score :  0.6017191977077364\n",
    "> * Recall Score :  0.658307210031348\n",
    "\n",
    "> Komentarz2: Model wytrenowany na zbiorze zawierającym tylko 4 najważniejsze cechy (wybór ANOVA) jest porównywalnie dobry do modelu wytrenowanego na zbiorze zawierającym wszystkie feature'y:\n",
    ">\n",
    "> * Accuracy :  0.9069400630914827\n",
    "> * Precision Score :  0.8622589531680441\n",
    "> * Recall Score :  0.9720496894409938\n",
    "\n",
    "> > Komentarz3: Model wytrenowany na zbiorze zawierającym tylko 4 najważniejsze cechy (wybór Mutual Information) jest porównywalnie dobry do modelu wytrenowanego na zbiorze zawierającym wszystkie feature'y:\n",
    ">\n",
    "> * Accuracy :  0.9274447949526814\n",
    "> * Precision Score :  0.8951841359773371\n",
    "> * Recall Score :  0.9723076923076923"
   ]
  }
 ],
 "metadata": {
  "kernelspec": {
   "display_name": "Python 3",
   "language": "python",
   "name": "python3"
  },
  "language_info": {
   "codemirror_mode": {
    "name": "ipython",
    "version": 3
   },
   "file_extension": ".py",
   "mimetype": "text/x-python",
   "name": "python",
   "nbconvert_exporter": "python",
   "pygments_lexer": "ipython3",
   "version": "3.7.7"
  }
 },
 "nbformat": 4,
 "nbformat_minor": 4
}
